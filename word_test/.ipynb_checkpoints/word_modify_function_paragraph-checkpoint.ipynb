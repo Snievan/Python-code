{
 "cells": [
  {
   "cell_type": "code",
   "execution_count": 1,
   "metadata": {},
   "outputs": [],
   "source": [
    "import docx\n",
    "from typing import List, Tuple\n",
    "# doc = docx.Document('./ZB_M0027_开门输入信号异常诊断模型部署说明.docx')"
   ]
  },
  {
   "cell_type": "markdown",
   "metadata": {},
   "source": [
    "# modify paragraph"
   ]
  },
  {
   "cell_type": "code",
   "execution_count": 2,
   "metadata": {},
   "outputs": [],
   "source": [
    "doc = docx.Document('./ZB_M0027_开门输入信号异常诊断模型部署说明.docx')"
   ]
  },
  {
   "cell_type": "code",
   "execution_count": 14,
   "metadata": {},
   "outputs": [],
   "source": [
    "def replace_str(s: str, replace_pairs: List[Tuple]) -> None:\n",
    "    \"\"\"replace given string by paris sequencely\"\"\"\n",
    "    if not replace_pairs:\n",
    "        return s\n",
    "    val_cur, var_new = replace_pairs.pop(0)\n",
    "    s.replace(val_cur, var_new)\n",
    "    return replace_str(s, replace_pairs=replace_pairs)"
   ]
  },
  {
   "cell_type": "code",
   "execution_count": 24,
   "metadata": {},
   "outputs": [],
   "source": [
    "replace_pairs = [('ZB_M0027', 'ZB_M0028'),\n",
    "                 ('开门输入信号异常诊断模型', '关门输入信号异常诊断模型')]"
   ]
  },
  {
   "cell_type": "code",
   "execution_count": 31,
   "metadata": {
    "scrolled": true
   },
   "outputs": [
    {
     "name": "stdout",
     "output_type": "stream",
     "text": [
      "\n",
      "------------------------\n",
      "文档修改历史记录\n",
      "------------------------\n",
      "\n",
      "\n",
      "------------------------\n",
      "\n",
      "------------------------\n",
      "引言\n",
      "------------------------\n",
      "本文件主要用于明确开门输入信号异常诊断模型的部署内容、部署位置、部署步骤，为后续模型部署和运维提供相应依据。\n",
      "------------------------\n",
      "本文件主要面向项目组管理人员、模型设计人员、模型开发人员、模型测试人员。\n",
      "------------------------\n",
      "部署说明\n",
      "------------------------\n",
      "模型基础信息\n",
      "------------------------\n",
      "模型编号\n",
      "------------------------\n",
      "ZB_M0027  \n",
      "------------------------\n",
      "模型名称\n",
      "------------------------\n",
      "开门输入信号异常诊断模型\n",
      "------------------------\n",
      "模型主程序文件\n",
      "------------------------\n",
      "ZB_M0027_DoorOpenSignalAbnormal.py \n",
      "------------------------\n",
      "模型运行环境\n",
      "------------------------\n",
      "硬件环境\n",
      "------------------------\n",
      "CPU：8核；内存：16G；磁盘空间：20G\n",
      "------------------------\n",
      "软件环境\n",
      "------------------------\n",
      "系统：Linux，如CENTOS 7.6\n",
      "------------------------\n",
      "Python解释器：Python 3.6\n",
      "------------------------\n",
      "依赖库\n",
      "------------------------\n",
      "numpy 1.16.1\n",
      "------------------------\n",
      "pandas 1.1.3\n",
      "------------------------\n",
      "happybase 1.2.0\n",
      "------------------------\n",
      "pymysql 0.10.0\n",
      "------------------------\n",
      "pandasql==0.7.3\n",
      "------------------------\n",
      "scikit-learn 0.23\n",
      "------------------------\n",
      "外部模块\n",
      "------------------------\n",
      "Db_conn (数据读取和写入模块的封装)\n",
      "------------------------\n",
      "Globalbase(模型的父类，连接数据读写，日志等模块)\n",
      "------------------------\n",
      "模型部署位置\n",
      "------------------------\n",
      "服务器地址\n",
      "------------------------\n",
      "\n",
      "------------------------\n",
      "模型工作目录\n",
      "------------------------\n",
      "\n",
      "------------------------\n",
      "\n",
      "------------------------\n"
     ]
    }
   ],
   "source": [
    "# doc show\n",
    "all_paras = doc.paragraphs\n",
    "for para in all_paras:\n",
    "    print(para.text)\n",
    "    print('------------------------')"
   ]
  },
  {
   "cell_type": "code",
   "execution_count": 32,
   "metadata": {},
   "outputs": [],
   "source": [
    "def modify_content(doc, replace_pairs: List[Tuple]) -> None:\n",
    "    \"\"\"modify content by replcaing keyword\"\"\"\n",
    "    all_paras = doc.paragraphs\n",
    "    for i,para in enumerate(all_paras):\n",
    "        text_cur = para.text\n",
    "        print(text_cur)\n",
    "        text_new = replace_str(text_cur,replace_pairs)\n",
    "        doc.paragraphs[i].text = text_new\n",
    "        if text_cur != text_new:\n",
    "            print(i,text_cur,text_new)\n",
    "    return doc"
   ]
  },
  {
   "cell_type": "code",
   "execution_count": 33,
   "metadata": {},
   "outputs": [
    {
     "name": "stdout",
     "output_type": "stream",
     "text": [
      "\n",
      "文档修改历史记录\n",
      "\n",
      "\n",
      "\n",
      "引言\n",
      "本文件主要用于明确开门输入信号异常诊断模型的部署内容、部署位置、部署步骤，为后续模型部署和运维提供相应依据。\n",
      "本文件主要面向项目组管理人员、模型设计人员、模型开发人员、模型测试人员。\n",
      "部署说明\n",
      "模型基础信息\n",
      "模型编号\n",
      "ZB_M0027  \n",
      "模型名称\n",
      "开门输入信号异常诊断模型\n",
      "模型主程序文件\n",
      "ZB_M0027_DoorOpenSignalAbnormal.py \n",
      "模型运行环境\n",
      "硬件环境\n",
      "CPU：8核；内存：16G；磁盘空间：20G\n",
      "软件环境\n",
      "系统：Linux，如CENTOS 7.6\n",
      "Python解释器：Python 3.6\n",
      "依赖库\n",
      "numpy 1.16.1\n",
      "pandas 1.1.3\n",
      "happybase 1.2.0\n",
      "pymysql 0.10.0\n",
      "pandasql==0.7.3\n",
      "scikit-learn 0.23\n",
      "外部模块\n",
      "Db_conn (数据读取和写入模块的封装)\n",
      "Globalbase(模型的父类，连接数据读写，日志等模块)\n",
      "模型部署位置\n",
      "服务器地址\n",
      "\n",
      "模型工作目录\n",
      "\n",
      "\n"
     ]
    }
   ],
   "source": [
    "doc = modify_content(doc,replace_pairs)"
   ]
  },
  {
   "cell_type": "code",
   "execution_count": null,
   "metadata": {},
   "outputs": [],
   "source": []
  },
  {
   "cell_type": "code",
   "execution_count": null,
   "metadata": {},
   "outputs": [],
   "source": []
  },
  {
   "cell_type": "code",
   "execution_count": null,
   "metadata": {},
   "outputs": [],
   "source": []
  },
  {
   "cell_type": "code",
   "execution_count": null,
   "metadata": {},
   "outputs": [],
   "source": []
  },
  {
   "cell_type": "code",
   "execution_count": 8,
   "metadata": {},
   "outputs": [],
   "source": [
    "text_cur = text_next"
   ]
  },
  {
   "cell_type": "code",
   "execution_count": 10,
   "metadata": {},
   "outputs": [],
   "source": [
    "header.paragraphs[0].text = text_next"
   ]
  },
  {
   "cell_type": "code",
   "execution_count": 11,
   "metadata": {},
   "outputs": [
    {
     "data": {
      "text/plain": [
       "'\\t\\t关门输入信号异常诊断模型'"
      ]
     },
     "execution_count": 11,
     "metadata": {},
     "output_type": "execute_result"
    }
   ],
   "source": [
    "header.paragraphs[0].text"
   ]
  },
  {
   "cell_type": "code",
   "execution_count": 12,
   "metadata": {},
   "outputs": [],
   "source": [
    "doc.save('tmp.docx')"
   ]
  },
  {
   "cell_type": "code",
   "execution_count": null,
   "metadata": {},
   "outputs": [],
   "source": [
    "def modify_header(doc,val_cur:str, var_new:str) -> None:\n",
    "    \"\"\"modify header from 2nd page\"\"\"\n",
    "    section = doc.sections[1]\n",
    "    header = section.header\n",
    "    text_cur = header.paragraphs[0].text\n",
    "    text_new = text_cur.replace(val_cur, var_new)\n",
    "    header.paragraphs[0].text = text_new"
   ]
  },
  {
   "cell_type": "code",
   "execution_count": null,
   "metadata": {},
   "outputs": [],
   "source": []
  },
  {
   "cell_type": "code",
   "execution_count": null,
   "metadata": {},
   "outputs": [],
   "source": []
  },
  {
   "cell_type": "code",
   "execution_count": 16,
   "metadata": {},
   "outputs": [],
   "source": [
    "doc.save('./tmp2.docx')"
   ]
  },
  {
   "cell_type": "code",
   "execution_count": 2,
   "metadata": {},
   "outputs": [],
   "source": [
    "def modify_content(doc,val_cur:str, var_new:str) -> None:\n",
    "    \"\"\"modify content by replcaing keyword\"\"\"\n",
    "    all_paras = doc.paragraphs\n",
    "    for para in all_paras:\n",
    "        text_cur = para.text\n",
    "        text_new = text_cur.replace(val_cur, var_new)\n",
    "        para.text = text_new"
   ]
  },
  {
   "cell_type": "code",
   "execution_count": null,
   "metadata": {},
   "outputs": [],
   "source": []
  },
  {
   "cell_type": "code",
   "execution_count": 21,
   "metadata": {},
   "outputs": [],
   "source": [
    "def modify_content(doc,val_cur:str, var_new:str) -> None:\n",
    "    \"\"\"modify content by replcaing keyword\"\"\"\n",
    "    all_paras = doc.paragraphs\n",
    "    for para in all_paras:\n",
    "        text_cur = para.text\n",
    "        text_new = text_cur.replace(val_cur, var_new)\n",
    "        para.text = text_new"
   ]
  },
  {
   "cell_type": "code",
   "execution_count": 22,
   "metadata": {},
   "outputs": [],
   "source": [
    "def modify_header(doc,val_cur:str, var_new:str) -> None:\n",
    "    \"\"\"modify header from 2nd page\"\"\"\n",
    "    section = doc.sections[1]\n",
    "    header = section.header\n",
    "    text_cur = header.paragraphs[0].text\n",
    "    text_new = text_cur.replace(val_cur, var_new)\n",
    "    header.paragraphs[0].text = text_new"
   ]
  },
  {
   "cell_type": "code",
   "execution_count": 23,
   "metadata": {},
   "outputs": [],
   "source": [
    "def modify_doc(path_read:str, path_write:str,val_cur:str, var_new:str) -> None:\n",
    "    \"\"\"modify doc file and write to specific path\"\"\"\n",
    "    doc = docx.Document(path_read)\n",
    "    modify_content(doc,val_cur,val_cur)\n",
    "    modify_header(doc,val_cur,val_cur)\n",
    "    doc.save(path_write)"
   ]
  },
  {
   "cell_type": "code",
   "execution_count": null,
   "metadata": {},
   "outputs": [],
   "source": []
  }
 ],
 "metadata": {
  "kernelspec": {
   "display_name": "Python 3",
   "language": "python",
   "name": "python3"
  },
  "language_info": {
   "codemirror_mode": {
    "name": "ipython",
    "version": 3
   },
   "file_extension": ".py",
   "mimetype": "text/x-python",
   "name": "python",
   "nbconvert_exporter": "python",
   "pygments_lexer": "ipython3",
   "version": "3.8.5"
  }
 },
 "nbformat": 4,
 "nbformat_minor": 4
}
