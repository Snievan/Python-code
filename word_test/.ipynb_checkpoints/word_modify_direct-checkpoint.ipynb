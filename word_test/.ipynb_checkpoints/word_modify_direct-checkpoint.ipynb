{
 "cells": [
  {
   "cell_type": "code",
   "execution_count": 33,
   "metadata": {},
   "outputs": [],
   "source": [
    "import docx\n",
    "from typing import List, Tuple\n",
    "doc = docx.Document('./ZB_M0027_开门输入信号异常诊断模型部署说明.docx')"
   ]
  },
  {
   "cell_type": "markdown",
   "metadata": {},
   "source": [
    "# modify headers"
   ]
  },
  {
   "cell_type": "code",
   "execution_count": 14,
   "metadata": {},
   "outputs": [],
   "source": [
    "section = doc.sections[1]\n",
    "header = section.header"
   ]
  },
  {
   "cell_type": "code",
   "execution_count": 15,
   "metadata": {},
   "outputs": [
    {
     "data": {
      "text/plain": [
       "'\\t\\t开门输入信号异常诊断模型'"
      ]
     },
     "execution_count": 15,
     "metadata": {},
     "output_type": "execute_result"
    }
   ],
   "source": [
    "header.paragraphs[0].text"
   ]
  },
  {
   "cell_type": "code",
   "execution_count": 16,
   "metadata": {},
   "outputs": [],
   "source": [
    "text_cur = header.paragraphs[0].text\n",
    "text_next = text_cur.replace('开门','关门')"
   ]
  },
  {
   "cell_type": "code",
   "execution_count": 8,
   "metadata": {},
   "outputs": [],
   "source": [
    "text_cur = text_next"
   ]
  },
  {
   "cell_type": "code",
   "execution_count": 10,
   "metadata": {},
   "outputs": [],
   "source": [
    "header.paragraphs[0].text = text_next"
   ]
  },
  {
   "cell_type": "code",
   "execution_count": 11,
   "metadata": {},
   "outputs": [
    {
     "data": {
      "text/plain": [
       "'\\t\\t关门输入信号异常诊断模型'"
      ]
     },
     "execution_count": 11,
     "metadata": {},
     "output_type": "execute_result"
    }
   ],
   "source": [
    "header.paragraphs[0].text"
   ]
  },
  {
   "cell_type": "code",
   "execution_count": 12,
   "metadata": {},
   "outputs": [],
   "source": [
    "doc.save('tmp.docx')"
   ]
  },
  {
   "cell_type": "markdown",
   "metadata": {},
   "source": [
    "# Part1: Paragraph"
   ]
  },
  {
   "cell_type": "code",
   "execution_count": 40,
   "metadata": {
    "scrolled": true
   },
   "outputs": [
    {
     "name": "stdout",
     "output_type": "stream",
     "text": [
      "\n",
      "------------------------\n",
      "文档修改历史记录\n",
      "------------------------\n",
      "\n",
      "\n",
      "------------------------\n",
      "\n",
      "------------------------\n",
      "引言\n",
      "------------------------\n",
      "本文件主要用于明确关门输入信号异常诊断模型的部署内容、部署位置、部署步骤，为后续模型部署和运维提供相应依据。\n",
      "------------------------\n",
      "本文件主要面向项目组管理人员、模型设计人员、模型开发人员、模型测试人员。\n",
      "------------------------\n",
      "部署说明\n",
      "------------------------\n",
      "模型基础信息\n",
      "------------------------\n",
      "模型编号\n",
      "------------------------\n",
      "ZB_M0027  \n",
      "------------------------\n",
      "模型名称\n",
      "------------------------\n",
      "关门输入信号异常诊断模型\n",
      "------------------------\n",
      "模型主程序文件\n",
      "------------------------\n",
      "ZB_M0027_DoorOpenSignalAbnormal.py \n",
      "------------------------\n",
      "模型运行环境\n",
      "------------------------\n",
      "硬件环境\n",
      "------------------------\n",
      "CPU：8核；内存：16G；磁盘空间：20G\n",
      "------------------------\n",
      "软件环境\n",
      "------------------------\n",
      "系统：Linux，如CENTOS 7.6\n",
      "------------------------\n",
      "Python解释器：Python 3.6\n",
      "------------------------\n",
      "依赖库\n",
      "------------------------\n",
      "numpy 1.16.1\n",
      "------------------------\n",
      "pandas 1.1.3\n",
      "------------------------\n",
      "happybase 1.2.0\n",
      "------------------------\n",
      "pymysql 0.10.0\n",
      "------------------------\n",
      "pandasql==0.7.3\n",
      "------------------------\n",
      "scikit-learn 0.23\n",
      "------------------------\n",
      "外部模块\n",
      "------------------------\n",
      "Db_conn (数据读取和写入模块的封装)\n",
      "------------------------\n",
      "Globalbase(模型的父类，连接数据读写，日志等模块)\n",
      "------------------------\n",
      "模型部署位置\n",
      "------------------------\n",
      "服务器地址\n",
      "------------------------\n",
      "\n",
      "------------------------\n",
      "模型工作目录\n",
      "------------------------\n",
      "\n",
      "------------------------\n",
      "\n",
      "------------------------\n"
     ]
    }
   ],
   "source": [
    "# doc show\n",
    "all_paras = doc.paragraphs\n",
    "for para in all_paras:\n",
    "    print(para.text)\n",
    "    print('------------------------')"
   ]
  },
  {
   "cell_type": "code",
   "execution_count": 36,
   "metadata": {},
   "outputs": [],
   "source": [
    "replace_pairs = [('ZB_M0027', 'ZB_M0028'),\n",
    "                 ('开门输入信号异常诊断模型', '关门输入信号异常诊断模型')]"
   ]
  },
  {
   "cell_type": "code",
   "execution_count": 37,
   "metadata": {},
   "outputs": [],
   "source": [
    "def modify_content(doc, replace_pairs: List[Tuple]) -> None:\n",
    "    \"\"\"modify content by replcaing keyword\"\"\"\n",
    "    all_paras = doc.paragraphs\n",
    "    for i,para in enumerate(all_paras):\n",
    "        text_cur = para.text\n",
    "        for val_cur, var_new in replace_pairs:\n",
    "            text_new = text_cur.replace(val_cur, var_new)\n",
    "            doc.paragraphs[i].text = text_new\n",
    "    return doc"
   ]
  },
  {
   "cell_type": "code",
   "execution_count": 38,
   "metadata": {},
   "outputs": [],
   "source": [
    "doc = modify_content(doc, replace_pairs)"
   ]
  },
  {
   "cell_type": "code",
   "execution_count": 22,
   "metadata": {},
   "outputs": [
    {
     "data": {
      "text/plain": [
       "1"
      ]
     },
     "execution_count": 22,
     "metadata": {},
     "output_type": "execute_result"
    }
   ],
   "source": [
    "a"
   ]
  },
  {
   "cell_type": "code",
   "execution_count": 23,
   "metadata": {},
   "outputs": [],
   "source": [
    "a = 10"
   ]
  },
  {
   "cell_type": "code",
   "execution_count": 24,
   "metadata": {},
   "outputs": [
    {
     "data": {
      "text/plain": [
       "[1, 2, 3, 4]"
      ]
     },
     "execution_count": 24,
     "metadata": {},
     "output_type": "execute_result"
    }
   ],
   "source": [
    "l"
   ]
  },
  {
   "cell_type": "code",
   "execution_count": 25,
   "metadata": {},
   "outputs": [],
   "source": [
    "x = l"
   ]
  },
  {
   "cell_type": "code",
   "execution_count": 26,
   "metadata": {},
   "outputs": [
    {
     "data": {
      "text/plain": [
       "[1, 2, 3, 4]"
      ]
     },
     "execution_count": 26,
     "metadata": {},
     "output_type": "execute_result"
    }
   ],
   "source": [
    "x"
   ]
  },
  {
   "cell_type": "code",
   "execution_count": 27,
   "metadata": {},
   "outputs": [
    {
     "data": {
      "text/plain": [
       "[1, 2, 3, 4]"
      ]
     },
     "execution_count": 27,
     "metadata": {},
     "output_type": "execute_result"
    }
   ],
   "source": [
    "l"
   ]
  },
  {
   "cell_type": "code",
   "execution_count": 28,
   "metadata": {},
   "outputs": [],
   "source": [
    "x[0] = 20"
   ]
  },
  {
   "cell_type": "code",
   "execution_count": 29,
   "metadata": {},
   "outputs": [
    {
     "data": {
      "text/plain": [
       "[20, 2, 3, 4]"
      ]
     },
     "execution_count": 29,
     "metadata": {},
     "output_type": "execute_result"
    }
   ],
   "source": [
    "x"
   ]
  },
  {
   "cell_type": "code",
   "execution_count": 30,
   "metadata": {},
   "outputs": [
    {
     "data": {
      "text/plain": [
       "[20, 2, 3, 4]"
      ]
     },
     "execution_count": 30,
     "metadata": {},
     "output_type": "execute_result"
    }
   ],
   "source": [
    "l"
   ]
  },
  {
   "cell_type": "code",
   "execution_count": null,
   "metadata": {},
   "outputs": [],
   "source": []
  }
 ],
 "metadata": {
  "kernelspec": {
   "display_name": "Python 3",
   "language": "python",
   "name": "python3"
  },
  "language_info": {
   "codemirror_mode": {
    "name": "ipython",
    "version": 3
   },
   "file_extension": ".py",
   "mimetype": "text/x-python",
   "name": "python",
   "nbconvert_exporter": "python",
   "pygments_lexer": "ipython3",
   "version": "3.8.5"
  }
 },
 "nbformat": 4,
 "nbformat_minor": 4
}
