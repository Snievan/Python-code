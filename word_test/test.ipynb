{
 "cells": [
  {
   "cell_type": "code",
   "execution_count": 1,
   "metadata": {},
   "outputs": [],
   "source": [
    "import pandas as pd\n",
    "df = pd.read_excel('./model_summary1103.xlsx')\n",
    "cols = ['模型编号f', '模型名称英文f', '模型名称']"
   ]
  },
  {
   "cell_type": "code",
   "execution_count": 4,
   "metadata": {},
   "outputs": [
    {
     "data": {
      "text/html": [
       "<div>\n",
       "<style scoped>\n",
       "    .dataframe tbody tr th:only-of-type {\n",
       "        vertical-align: middle;\n",
       "    }\n",
       "\n",
       "    .dataframe tbody tr th {\n",
       "        vertical-align: top;\n",
       "    }\n",
       "\n",
       "    .dataframe thead th {\n",
       "        text-align: right;\n",
       "    }\n",
       "</style>\n",
       "<table border=\"1\" class=\"dataframe\">\n",
       "  <thead>\n",
       "    <tr style=\"text-align: right;\">\n",
       "      <th></th>\n",
       "      <th>模型编号f</th>\n",
       "      <th>模型名称英文f</th>\n",
       "      <th>模型名称</th>\n",
       "    </tr>\n",
       "  </thead>\n",
       "  <tbody>\n",
       "    <tr>\n",
       "      <th>0</th>\n",
       "      <td>ZB_M0007</td>\n",
       "      <td>MotorCurrent</td>\n",
       "      <td>牵引电机电流异常诊断模型</td>\n",
       "    </tr>\n",
       "    <tr>\n",
       "      <th>1</th>\n",
       "      <td>ZB_M0008</td>\n",
       "      <td>ParkingCylinderPressure</td>\n",
       "      <td>停放制动异常施加诊断模型</td>\n",
       "    </tr>\n",
       "    <tr>\n",
       "      <th>2</th>\n",
       "      <td>ZB_M0009</td>\n",
       "      <td>MRPressure</td>\n",
       "      <td>总风MR压力异常诊断模型</td>\n",
       "    </tr>\n",
       "    <tr>\n",
       "      <th>3</th>\n",
       "      <td>ZB_M0010</td>\n",
       "      <td>AirPress</td>\n",
       "      <td>列车异常耗风预警模型</td>\n",
       "    </tr>\n",
       "    <tr>\n",
       "      <th>4</th>\n",
       "      <td>ZB_M0011</td>\n",
       "      <td>BrakeCylinderPressure</td>\n",
       "      <td>制动缸压力异常诊断模型</td>\n",
       "    </tr>\n",
       "    <tr>\n",
       "      <th>5</th>\n",
       "      <td>ZB_M0012</td>\n",
       "      <td>Battery</td>\n",
       "      <td>蓄电池异常诊断模型</td>\n",
       "    </tr>\n",
       "  </tbody>\n",
       "</table>\n",
       "</div>"
      ],
      "text/plain": [
       "      模型编号f                  模型名称英文f          模型名称\n",
       "0  ZB_M0007             MotorCurrent  牵引电机电流异常诊断模型\n",
       "1  ZB_M0008  ParkingCylinderPressure  停放制动异常施加诊断模型\n",
       "2  ZB_M0009               MRPressure  总风MR压力异常诊断模型\n",
       "3  ZB_M0010                 AirPress    列车异常耗风预警模型\n",
       "4  ZB_M0011    BrakeCylinderPressure   制动缸压力异常诊断模型\n",
       "5  ZB_M0012                  Battery     蓄电池异常诊断模型"
      ]
     },
     "execution_count": 4,
     "metadata": {},
     "output_type": "execute_result"
    }
   ],
   "source": [
    "df[cols][:6]"
   ]
  },
  {
   "cell_type": "code",
   "execution_count": null,
   "metadata": {},
   "outputs": [],
   "source": []
  },
  {
   "cell_type": "code",
   "execution_count": 1,
   "metadata": {},
   "outputs": [],
   "source": [
    "import os "
   ]
  },
  {
   "cell_type": "code",
   "execution_count": 3,
   "metadata": {},
   "outputs": [],
   "source": [
    "folder = r'docs\\ZB_M0027_开门输入信号异常诊断模型\\1-文档'"
   ]
  },
  {
   "cell_type": "code",
   "execution_count": 7,
   "metadata": {},
   "outputs": [
    {
     "data": {
      "text/plain": [
       "['ZB_M0027_开门输入信号异常诊断模型测试报告.docx',\n",
       " 'ZB_M0027_开门输入信号异常诊断模型设计说明书.docx',\n",
       " 'ZB_M0027_开门输入信号异常诊断模型部署说明.docx',\n",
       " 'ZB_M0027_开门输入信号异常诊断模型需求规格说明书.docx']"
      ]
     },
     "execution_count": 7,
     "metadata": {},
     "output_type": "execute_result"
    }
   ],
   "source": [
    "os.listdir(folder)[4:]"
   ]
  },
  {
   "cell_type": "code",
   "execution_count": 8,
   "metadata": {},
   "outputs": [],
   "source": [
    "res = []\n",
    "for path in os.listdir(folder)[4:]:\n",
    "    res.append(os.path.join(folder,path))"
   ]
  },
  {
   "cell_type": "code",
   "execution_count": 9,
   "metadata": {},
   "outputs": [
    {
     "data": {
      "text/plain": [
       "['docs\\\\ZB_M0027_开门输入信号异常诊断模型\\\\1-文档\\\\ZB_M0027_开门输入信号异常诊断模型测试报告.docx',\n",
       " 'docs\\\\ZB_M0027_开门输入信号异常诊断模型\\\\1-文档\\\\ZB_M0027_开门输入信号异常诊断模型设计说明书.docx',\n",
       " 'docs\\\\ZB_M0027_开门输入信号异常诊断模型\\\\1-文档\\\\ZB_M0027_开门输入信号异常诊断模型部署说明.docx',\n",
       " 'docs\\\\ZB_M0027_开门输入信号异常诊断模型\\\\1-文档\\\\ZB_M0027_开门输入信号异常诊断模型需求规格说明书.docx']"
      ]
     },
     "execution_count": 9,
     "metadata": {},
     "output_type": "execute_result"
    }
   ],
   "source": [
    "res"
   ]
  },
  {
   "cell_type": "code",
   "execution_count": 10,
   "metadata": {},
   "outputs": [],
   "source": [
    "FRAME_DOC_PATHS = ['docs\\\\ZB_M0027_开门输入信号异常诊断模型\\\\1-文档\\\\ZB_M0027_开门输入信号异常诊断模型测试报告.docx',\n",
    "                   'docs\\\\ZB_M0027_开门输入信号异常诊断模型\\\\1-文档\\\\ZB_M0027_开门输入信号异常诊断模型设计说明书.docx',\n",
    "                   'docs\\\\ZB_M0027_开门输入信号异常诊断模型\\\\1-文档\\\\ZB_M0027_开门输入信号异常诊断模型部署说明.docx',\n",
    "                   'docs\\\\ZB_M0027_开门输入信号异常诊断模型\\\\1-文档\\\\ZB_M0027_开门输入信号异常诊断模型需求规格说明书.docx']"
   ]
  },
  {
   "cell_type": "code",
   "execution_count": 11,
   "metadata": {},
   "outputs": [
    {
     "data": {
      "text/plain": [
       "'docs\\\\ZB_M0027_开门输入信号异常诊断模型\\\\1-文档\\\\ZB_M0027_开门输入信号异常诊断模型测试报告.docx'"
      ]
     },
     "execution_count": 11,
     "metadata": {},
     "output_type": "execute_result"
    }
   ],
   "source": [
    "FRAME_DOC_PATHS[0]"
   ]
  },
  {
   "cell_type": "code",
   "execution_count": 12,
   "metadata": {},
   "outputs": [],
   "source": [
    "import docx"
   ]
  },
  {
   "cell_type": "code",
   "execution_count": 14,
   "metadata": {},
   "outputs": [],
   "source": [
    "doc = docx.Document(FRAME_DOC_PATHS[0])"
   ]
  },
  {
   "cell_type": "code",
   "execution_count": 15,
   "metadata": {},
   "outputs": [],
   "source": [
    "p=  FRAME_DOC_PATHS[0]"
   ]
  },
  {
   "cell_type": "code",
   "execution_count": 17,
   "metadata": {},
   "outputs": [
    {
     "data": {
      "text/plain": [
       "'ZB_M0027_开门输入信号异常诊断模型测试报告.docx'"
      ]
     },
     "execution_count": 17,
     "metadata": {},
     "output_type": "execute_result"
    }
   ],
   "source": [
    "os.path.basename(p)"
   ]
  },
  {
   "cell_type": "code",
   "execution_count": null,
   "metadata": {},
   "outputs": [],
   "source": []
  }
 ],
 "metadata": {
  "kernelspec": {
   "display_name": "Python 3",
   "language": "python",
   "name": "python3"
  },
  "language_info": {
   "codemirror_mode": {
    "name": "ipython",
    "version": 3
   },
   "file_extension": ".py",
   "mimetype": "text/x-python",
   "name": "python",
   "nbconvert_exporter": "python",
   "pygments_lexer": "ipython3",
   "version": "3.8.5"
  }
 },
 "nbformat": 4,
 "nbformat_minor": 4
}
