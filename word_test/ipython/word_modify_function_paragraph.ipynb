{
 "cells": [
  {
   "cell_type": "code",
   "execution_count": 1,
   "metadata": {},
   "outputs": [],
   "source": [
    "import docx\n",
    "from typing import List, Tuple\n",
    "# doc = docx.Document('./ZB_M0027_开门输入信号异常诊断模型部署说明.docx')"
   ]
  },
  {
   "cell_type": "markdown",
   "metadata": {},
   "source": [
    "# modify paragraph"
   ]
  },
  {
   "cell_type": "code",
   "execution_count": 3,
   "metadata": {},
   "outputs": [],
   "source": [
    "doc = docx.Document('./ZB_M0023_紧急解锁开关异常诊断模型测试报告.docx')"
   ]
  },
  {
   "cell_type": "code",
   "execution_count": 4,
   "metadata": {},
   "outputs": [
    {
     "name": "stdout",
     "output_type": "stream",
     "text": [
      "\n",
      "------------------------\n",
      "文档修改历史记录\n",
      "------------------------\n",
      "\n",
      "\n",
      "------------------------\n",
      "\n",
      "------------------------\n",
      "引言\n",
      "------------------------\n",
      "目的\n",
      "------------------------\n",
      "本文档旨在说明对紧急解锁开关异常诊断模型的测试范围、测试目标、应当遵循的标准或规范、参考文件、测试环境、测试用例、测试结果进行了描述。\n",
      "------------------------\n",
      "本文件主要面向项目组管理人员、模型设计人员、模型开发人员、模型测试人员。\n",
      "------------------------\n",
      "定义\n",
      "------------------------\n",
      "本文件对于以下缩略语的引用是必不可少的。为便于使用，对以下缩略语进行简要说明，旨在为本项目相关人员能够快速掌握此文档内容。\n",
      "------------------------\n",
      "表 1-1 术语缩略语与定义\n",
      "------------------------\n",
      "引用文件\n",
      "------------------------\n",
      "《ZB_M0001_车门发生数据总线故障模型需求规格说明书》\n",
      "------------------------\n",
      "《ZB_M0001_车门发生总线故障模型设计说明书》\n",
      "------------------------\n",
      "测试说明部分\n",
      "------------------------\n",
      "测试准备\n",
      "------------------------\n",
      "表 3-2 测试准备\n",
      "------------------------\n",
      "硬件环境\n",
      "------------------------\n",
      "CPU：8核；内存：16G；磁盘空间：20G\n",
      "------------------------\n",
      "软件环境\n",
      "------------------------\n",
      "系统：Linux，如CENTOS 7.6\n",
      "------------------------\n",
      "Python解释器：Python 3.6\n",
      "------------------------\n",
      "依赖库\n",
      "------------------------\n",
      "scikit-learn 0.23\n",
      "------------------------\n",
      "numpy 1.16.1\n",
      "------------------------\n",
      "pandas 1.1.3\n",
      "------------------------\n",
      "happybase 1.2.0\n",
      "------------------------\n",
      "pymysql 0.10.0\n",
      "------------------------\n",
      "kafka-python 2.0.2\n",
      "------------------------\n",
      "redis 3.5.3\n",
      "------------------------\n",
      "测试说明\n",
      "------------------------\n",
      "对车门发生数据总线故障模型模型进行测试，确保模型逻辑畅通，通过对牵引变压器油温进行对比，对油温异常的车辆提前预警提醒。\n",
      "------------------------\n",
      "测试用例1（机理模型）\n",
      "------------------------\n",
      "center_m139_transformerOilHigh_monitor.py\n",
      "------------------------\n",
      "涉及的需求\n",
      "------------------------\n",
      "（1）牵引变压器油温预判(新增)\n",
      "------------------------\n",
      "①牵引变压器温度1或者牵引变压器温度2≥75℃且非205℃。\n",
      "------------------------\n",
      "满足条件①，报出牵引变压器温度阈值预判。\n",
      "------------------------\n",
      "先决条件\n",
      "------------------------\n",
      "①牵引变压器温度1或者牵引变压器温度2≥75℃且非205℃。\n",
      "------------------------\n",
      "满足条件①。\n",
      "------------------------\n",
      "测试输入\n",
      "------------------------\n",
      "\n",
      "------------------------\n",
      "{'row_key':'110000|110000_22|1001|1|20210512121234000|1620792783088',\n",
      " 'DATA:1_6_0_2_16': '50','DATA:1_54_4_1_1':'1','DATA:1_28_0_2_16':'11',\n",
      "'DATA:1_53_7_1_1':'1','DATA:1_53_6_1_1':'1','DATA:1_53_5_1_1':'1',\n",
      " 'DATA:1_77_7_1_1':'1',\n",
      " 'DATA:1_77_6_1_1':'1','DATA:1_77_5_1_1':'1','DATA:1_101_7_1_1':'1',\n",
      " 'DATA:1_101_6_1_1':'1','DATA:1_101_5_1_1':'1','DATA:1_125_7_1_1':'1',\n",
      " 'DATA:1_125_6_1_1':'1','DATA:1_125_5_1_1':'1','DATA:1_149_7_1_1':'1',\n",
      " 'DATA:1_149_6_1_1':'1','DATA:1_149_5_1_1':'1','DATA:1_173_7_1_1':'1',\n",
      " 'DATA:1_173_6_1_1':'1','DATA:1_173_5_1_1':'1','DATA:1_197_7_1_1':'1',\n",
      " 'DATA:1_197_6_1_1':'1','DATA:1_197_5_1_1':'1','DATA:1_221_7_1_1':'1',\n",
      " 'DATA:1_221_6_1_1':'1','DATA:1_221_5_1_1':'1'}\n",
      "------------------------\n",
      "\n",
      "------------------------\n",
      "{'row_key':'110000|110000_22|1001|1|20210512121234000|1620792783088',\n",
      " 'DATA:1_6_0_2_16': '50','DATA:1_54_4_1_1':'1','DATA:1_28_0_2_16':'11',\n",
      "'DATA:1_53_7_1_1':'1','DATA:1_53_6_1_1':'1','DATA:1_53_5_1_1':'1',\n",
      " 'DATA:1_77_7_1_1':'1',\n",
      " 'DATA:1_77_6_1_1':'1','DATA:1_77_5_1_1':'1','DATA:1_101_7_1_1':'1',\n",
      " 'DATA:1_101_6_1_1':'1','DATA:1_101_5_1_1':'1','DATA:1_125_7_1_1':'1',\n",
      " 'DATA:1_125_6_1_1':'1','DATA:1_125_5_1_1':'1','DATA:1_149_7_1_1':'1',\n",
      " 'DATA:1_149_6_1_1':'1','DATA:1_149_5_1_1':'1','DATA:1_173_7_1_1':'1',\n",
      " 'DATA:1_173_6_1_1':'1','DATA:1_173_5_1_1':'1','DATA:1_197_7_1_1':'1',\n",
      " 'DATA:1_197_6_1_1':'1','DATA:1_197_5_1_1':'1','DATA:1_221_7_1_1':'1',\n",
      " 'DATA:1_221_6_1_1':'1','DATA:1_221_5_1_1':'1'}\n",
      "------------------------\n",
      "\n",
      "------------------------\n",
      "{'row_key':'110000|110000_22|1001|1|20210512121234000|1620792783088',\n",
      " 'DATA:1_6_0_2_16': '50','DATA:1_54_4_1_1':'1','DATA:1_28_0_2_16':'11',\n",
      "'DATA:1_53_7_1_1':'1','DATA:1_53_6_1_1':'1','DATA:1_53_5_1_1':'1',\n",
      " 'DATA:1_77_7_1_1':'1',\n",
      " 'DATA:1_77_6_1_1':'1','DATA:1_77_5_1_1':'1','DATA:1_101_7_1_1':'1',\n",
      " 'DATA:1_101_6_1_1':'1','DATA:1_101_5_1_1':'1','DATA:1_125_7_1_1':'1',\n",
      " 'DATA:1_125_6_1_1':'1','DATA:1_125_5_1_1':'0','DATA:1_149_7_1_1':'1',\n",
      " 'DATA:1_149_6_1_1':'1','DATA:1_149_5_1_1':'1','DATA:1_173_7_1_1':'1',\n",
      " 'DATA:1_173_6_1_1':'1','DATA:1_173_5_1_1':'1','DATA:1_197_7_1_1':'1',\n",
      " 'DATA:1_197_6_1_1':'1','DATA:1_197_5_1_1':'1','DATA:1_221_7_1_1':'1',\n",
      " 'DATA:1_221_6_1_1':'1','DATA:1_221_5_1_1':'1'}\n",
      "------------------------\n",
      "预期测试结果\n",
      "------------------------\n",
      "E51\tCR400AF2016\t03\t251.7\t1\t牵引变压器油温1:80,牵引变压器油温2:75\t\t牵引变压器油温异常模型\t牵引变压器温度高提醒\t牵引变压器温度阈值预判:主变油温大于等于75℃,且非205℃\t2019-6-19 9:09:40\tm139\tYP\t2019-07-22 09:42:11\n",
      "------------------------\n",
      "E51\tCR400AF2016\t06\t251.7\t1\t牵引变压器油温1:80,牵引变压器油温2:75\t\t牵引变压器油温异常模型\t牵引变压器温度高提醒\t牵引变压器温度阈值预判:主变油温大于等于75℃,且非205℃\t2019-6-19 9:09:40\tm139\tYP\t2019-07-22 09:42:11\n",
      "------------------------\n",
      "评价结果的准则\n",
      "------------------------\n",
      "当满足2.2.1.2先决条件下，若满足2.2.1.4，则抛出异常，然后将故障类型、故障信息描述存储至：\n",
      "------------------------\n",
      "center_m139_transformerOilHigh_monitor_*.put文件。即：\n",
      "------------------------\n",
      "center_m139_transformerOilHigh_monitor20190722094300.put\n",
      "------------------------\n",
      "测试过程\n",
      "------------------------\n",
      "终端输入命令：\n",
      "------------------------\n",
      "```\n",
      "------------------------\n",
      "cat m139_test1.put | python ~/data13/phmdmdata/model/center_m139_transformerOilHigh_monitor.py debug\n",
      "------------------------\n",
      "```\n",
      "------------------------\n",
      "测试用例1（数据模型）\n",
      "------------------------\n",
      "center_m139_transformerOilHigh_monitor.py\n",
      "------------------------\n",
      "涉及的需求\n",
      "------------------------\n",
      "（1）牵引变压器油温预判(新增)\n",
      "------------------------\n",
      "①牵引变压器温度1或者牵引变压器温度2≥75℃且非205℃。\n",
      "------------------------\n",
      "满足条件①，报出牵引变压器温度阈值预判。\n",
      "------------------------\n",
      "先决条件\n",
      "------------------------\n",
      "特征项描述\n",
      "------------------------\n",
      "将算法应用的特征，写入该部分。\n",
      "------------------------\n",
      "样本数量描述。\n",
      "------------------------\n",
      "时间跨度3个月。\n",
      "------------------------\n",
      "样本集：验证集=7:3\n",
      "------------------------\n",
      "样本集：700w条。\n",
      "------------------------\n",
      "验证集：300w条。\n",
      "------------------------\n",
      "数据模型算法参数调整说明。\n",
      "------------------------\n",
      "RandomForestClassifier(n_estimators=81,max_features=6,oob_score=True,random_state=10）\n",
      "------------------------\n",
      "测试输入\n",
      "------------------------\n",
      "\n",
      "------------------------\n",
      "{'row_key':'110000|110000_22|1001|1|20210512121234000|1620792783088',\n",
      " 'DATA:1_6_0_2_16': '50','DATA:1_54_4_1_1':'1','DATA:1_28_0_2_16':'11',\n",
      "'DATA:1_53_7_1_1':'1','DATA:1_53_6_1_1':'1','DATA:1_53_5_1_1':'1',\n",
      " 'DATA:1_77_7_1_1':'1',\n",
      " 'DATA:1_77_6_1_1':'1','DATA:1_77_5_1_1':'1','DATA:1_101_7_1_1':'1',\n",
      " 'DATA:1_101_6_1_1':'1','DATA:1_101_5_1_1':'1','DATA:1_125_7_1_1':'1',\n",
      " 'DATA:1_125_6_1_1':'1','DATA:1_125_5_1_1':'1','DATA:1_149_7_1_1':'1',\n",
      " 'DATA:1_149_6_1_1':'1','DATA:1_149_5_1_1':'1','DATA:1_173_7_1_1':'1',\n",
      " 'DATA:1_173_6_1_1':'1','DATA:1_173_5_1_1':'1','DATA:1_197_7_1_1':'1',\n",
      " 'DATA:1_197_6_1_1':'1','DATA:1_197_5_1_1':'1','DATA:1_221_7_1_1':'1',\n",
      " 'DATA:1_221_6_1_1':'1','DATA:1_221_5_1_1':'1'}\n",
      "------------------------\n",
      "\n",
      "------------------------\n",
      "{'row_key':'110000|110000_22|1001|1|20210512121234000|1620792783088',\n",
      " 'DATA:1_6_0_2_16': '50','DATA:1_54_4_1_1':'1','DATA:1_28_0_2_16':'11',\n",
      "'DATA:1_53_7_1_1':'1','DATA:1_53_6_1_1':'1','DATA:1_53_5_1_1':'1',\n",
      " 'DATA:1_77_7_1_1':'1',\n",
      " 'DATA:1_77_6_1_1':'1','DATA:1_77_5_1_1':'1','DATA:1_101_7_1_1':'1',\n",
      " 'DATA:1_101_6_1_1':'1','DATA:1_101_5_1_1':'1','DATA:1_125_7_1_1':'1',\n",
      " 'DATA:1_125_6_1_1':'1','DATA:1_125_5_1_1':'1','DATA:1_149_7_1_1':'1',\n",
      " 'DATA:1_149_6_1_1':'1','DATA:1_149_5_1_1':'1','DATA:1_173_7_1_1':'1',\n",
      " 'DATA:1_173_6_1_1':'1','DATA:1_173_5_1_1':'1','DATA:1_197_7_1_1':'1',\n",
      " 'DATA:1_197_6_1_1':'1','DATA:1_197_5_1_1':'1','DATA:1_221_7_1_1':'1',\n",
      " 'DATA:1_221_6_1_1':'1','DATA:1_221_5_1_1':'1'}\n",
      "------------------------\n",
      "\n",
      "------------------------\n",
      "{'row_key':'110000|110000_22|1001|1|20210512121234000|1620792783088',\n",
      " 'DATA:1_6_0_2_16': '50','DATA:1_54_4_1_1':'1','DATA:1_28_0_2_16':'11',\n",
      "'DATA:1_53_7_1_1':'1','DATA:1_53_6_1_1':'1','DATA:1_53_5_1_1':'1',\n",
      " 'DATA:1_77_7_1_1':'1',\n",
      " 'DATA:1_77_6_1_1':'1','DATA:1_77_5_1_1':'1','DATA:1_101_7_1_1':'1',\n",
      " 'DATA:1_101_6_1_1':'1','DATA:1_101_5_1_1':'1','DATA:1_125_7_1_1':'1',\n",
      " 'DATA:1_125_6_1_1':'1','DATA:1_125_5_1_1':'0','DATA:1_149_7_1_1':'1',\n",
      " 'DATA:1_149_6_1_1':'1','DATA:1_149_5_1_1':'1','DATA:1_173_7_1_1':'1',\n",
      " 'DATA:1_173_6_1_1':'1','DATA:1_173_5_1_1':'1','DATA:1_197_7_1_1':'1',\n",
      " 'DATA:1_197_6_1_1':'1','DATA:1_197_5_1_1':'1','DATA:1_221_7_1_1':'1',\n",
      " 'DATA:1_221_6_1_1':'1','DATA:1_221_5_1_1':'1'}\n",
      "------------------------\n",
      "预期测试结果\n",
      "------------------------\n",
      "E51\tCR400AF2016\t03\t251.7\t1\t牵引变压器油温1:80,牵引变压器油温2:75\t\t牵引变压器油温异常模型\t牵引变压器温度高提醒\t牵引变压器温度阈值预判:主变油温大于等于75℃,且非205℃\t2019-6-19 9:09:40\tm139\tYP\t2019-07-22 09:42:11\n",
      "------------------------\n",
      "E51\tCR400AF2016\t06\t251.7\t1\t牵引变压器油温1:80,牵引变压器油温2:75\t\t牵引变压器油温异常模型\t牵引变压器温度高提醒\t牵引变压器温度阈值预判:主变油温大于等于75℃,且非205℃\t2019-6-19 9:09:40\tm139\tYP\t2019-07-22 09:42:11\n",
      "------------------------\n",
      "评价结果的准则\n",
      "------------------------\n",
      "——检测效率：处理关键部件样本所需的时间: <1min；\n",
      "------------------------\n",
      "——召回率：检测出的故障样本占所有故障样本的比例：>70%；\n",
      "------------------------\n",
      "——精确度：检测正确的故障样本占模型检测为故障样本总数的比例：>80%；\n",
      "------------------------\n",
      "——AUC值：对二分类模型优劣进行评价，预测的正例排在负例前面的概率：0.6<AUC<1。\n",
      "------------------------\n",
      "测试过程\n",
      "------------------------\n",
      "终端输入命令：\n",
      "------------------------\n",
      "```\n",
      "------------------------\n",
      "cat m139_test1.put | python ~/data13/phmdmdata/model/center_m139_transformerOilHigh_monitor.py debug\n",
      "------------------------\n",
      "```\n",
      "------------------------\n",
      "测试报告部分\n",
      "------------------------\n",
      "测试结果概述\n",
      "------------------------\n",
      "机理模型话术：\n",
      "------------------------\n",
      "根据对车载数据进行分析，结合故障机理，对锂电池浮充性能异常功能进行测试，测试结果满足：\n",
      "------------------------\n",
      "满足满足2.2.1.2条件时，则报出‘’牵引变压器油温异常“，预判信息为2.2.1.4对应信息；\n",
      "------------------------\n",
      "满足满足2.2.2.2条件时，则报出‘’牵引变压器油温异常“，预判信息为2.2.2.4对应信息；\n",
      "------------------------\n",
      "满足满足2.2.3.2条件时，则报出‘’牵引变压器油温异常“，预判信息为2.2.3.4对应信息；\n",
      "------------------------\n",
      "满足满足2.2.4.2条件时，则报出‘’牵引变压器油温异常“，预判信息为2.2.4.4对应信息；\n",
      "------------------------\n",
      "满足满足2.2.5.2条件时，则报出‘’牵引变压器油温异常“，预判信息为2.2.5.4对应信息；\n",
      "------------------------\n",
      "满足满足2.2.6.2条件时，则报出‘’牵引变压器油温异常“，预判信息为2.2.6.4对应信息。\n",
      "------------------------\n",
      "\n",
      "------------------------\n",
      "数据模型话术：\n",
      "------------------------\n",
      "结合对***故障机理的分析，构造**特征，应用数据模型一般测试方法，对锂电池浮充性能异常功能进行测试，测试结果满足：\n",
      "------------------------\n",
      "****\n",
      "------------------------\n",
      "被测模型总体评价\n",
      "------------------------\n",
      "停放制动缸压力异常模型符合模型的需求。\n",
      "------------------------\n",
      "改进建议\n",
      "------------------------\n",
      "暂无。\n",
      "------------------------\n",
      "详细的测试结果\n",
      "------------------------\n",
      "center_m137_parking_monitor_model_20190721225900.put\n",
      "------------------------\n",
      "测试用例1\n",
      "------------------------\n",
      "center_m139_transformerOilHigh_monitor.py\n",
      "------------------------\n",
      "存在的问题与偏差\n",
      "------------------------\n",
      "暂无。\n",
      "------------------------\n",
      "对本用例的测试评价\n",
      "------------------------\n",
      "能够按照2.2.1.1逻辑要求，进行预判，预判详细信息详见报警明细。\n",
      "------------------------\n"
     ]
    }
   ],
   "source": [
    "# doc show\n",
    "all_paras = doc.paragraphs\n",
    "for para in all_paras:\n",
    "    print(para.text)\n",
    "    print('------------------------')"
   ]
  },
  {
   "cell_type": "code",
   "execution_count": 83,
   "metadata": {},
   "outputs": [],
   "source": [
    "def modify_content(doc, replace_pairs: List[Tuple]) -> None:\n",
    "    \"\"\"modify content by replcaing keyword\"\"\"\n",
    "    all_paras = doc.paragraphs\n",
    "    for i,para in enumerate(all_paras):\n",
    "        text_cur = para.text\n",
    "        text_new = replace_str(text_cur,replace_pairs)\n",
    "        doc.paragraphs[i].text = text_new\n",
    "    return doc"
   ]
  },
  {
   "cell_type": "code",
   "execution_count": 88,
   "metadata": {},
   "outputs": [
    {
     "data": {
      "text/plain": [
       "[<docx.text.paragraph.Paragraph at 0x24cfcea80d0>,\n",
       " <docx.text.paragraph.Paragraph at 0x24cfcea82e0>,\n",
       " <docx.text.paragraph.Paragraph at 0x24cfcea8e80>,\n",
       " <docx.text.paragraph.Paragraph at 0x24cfcea8dc0>,\n",
       " <docx.text.paragraph.Paragraph at 0x24cfce9adc0>,\n",
       " <docx.text.paragraph.Paragraph at 0x24cfce9ad90>,\n",
       " <docx.text.paragraph.Paragraph at 0x24cfce9ae80>,\n",
       " <docx.text.paragraph.Paragraph at 0x24cfce9af10>,\n",
       " <docx.text.paragraph.Paragraph at 0x24cfdd01be0>,\n",
       " <docx.text.paragraph.Paragraph at 0x24cfdd01f40>,\n",
       " <docx.text.paragraph.Paragraph at 0x24cfdd01d30>,\n",
       " <docx.text.paragraph.Paragraph at 0x24cfdd01250>,\n",
       " <docx.text.paragraph.Paragraph at 0x24cfdd01e20>,\n",
       " <docx.text.paragraph.Paragraph at 0x24cfdd01700>,\n",
       " <docx.text.paragraph.Paragraph at 0x24cfdd018e0>,\n",
       " <docx.text.paragraph.Paragraph at 0x24cfdd01460>,\n",
       " <docx.text.paragraph.Paragraph at 0x24cfdd01970>,\n",
       " <docx.text.paragraph.Paragraph at 0x24cfdd016d0>,\n",
       " <docx.text.paragraph.Paragraph at 0x24cfdd011c0>,\n",
       " <docx.text.paragraph.Paragraph at 0x24cfdca0070>,\n",
       " <docx.text.paragraph.Paragraph at 0x24cfdca00d0>,\n",
       " <docx.text.paragraph.Paragraph at 0x24cfdca0130>,\n",
       " <docx.text.paragraph.Paragraph at 0x24cfdca0190>,\n",
       " <docx.text.paragraph.Paragraph at 0x24cfdca01f0>,\n",
       " <docx.text.paragraph.Paragraph at 0x24cfdca0250>,\n",
       " <docx.text.paragraph.Paragraph at 0x24cfdca02b0>,\n",
       " <docx.text.paragraph.Paragraph at 0x24cfdca0310>,\n",
       " <docx.text.paragraph.Paragraph at 0x24cfdca0370>,\n",
       " <docx.text.paragraph.Paragraph at 0x24cfdca03d0>,\n",
       " <docx.text.paragraph.Paragraph at 0x24cfdca0430>,\n",
       " <docx.text.paragraph.Paragraph at 0x24cfdca0490>,\n",
       " <docx.text.paragraph.Paragraph at 0x24cfdca04f0>,\n",
       " <docx.text.paragraph.Paragraph at 0x24cfdca0550>,\n",
       " <docx.text.paragraph.Paragraph at 0x24cfdca05b0>,\n",
       " <docx.text.paragraph.Paragraph at 0x24cfdca0610>,\n",
       " <docx.text.paragraph.Paragraph at 0x24cfdca0670>,\n",
       " <docx.text.paragraph.Paragraph at 0x24cfdca06d0>]"
      ]
     },
     "execution_count": 88,
     "metadata": {},
     "output_type": "execute_result"
    }
   ],
   "source": [
    "doc.paragraphs"
   ]
  },
  {
   "cell_type": "code",
   "execution_count": 84,
   "metadata": {
    "scrolled": true
   },
   "outputs": [
    {
     "name": "stdout",
     "output_type": "stream",
     "text": [
      "0 ZB_M0028  \n",
      "0 ZB_M0028  \n",
      "1 模型名称\n",
      "1 模型名称\n",
      "2 关门输入信号异常诊断模型\n",
      "2 关门输入信号异常诊断模型\n",
      "3 \n",
      "3 \n",
      "4 引言\n",
      "4 引言\n",
      "5 本文件主要用于明确开门输入信号异常诊断模型的部署内容、部署位置、部署步骤，为后续模型部署和运维提供相应依据。\n",
      "5 本文件主要用于明确关门输入信号异常诊断模型的部署内容、部署位置、部署步骤，为后续模型部署和运维提供相应依据。\n",
      "5 本文件主要用于明确开门输入信号异常诊断模型的部署内容、部署位置、部署步骤，为后续模型部署和运维提供相应依据。 本文件主要用于明确关门输入信号异常诊断模型的部署内容、部署位置、部署步骤，为后续模型部署和运维提供相应依据。\n",
      "6 本文件主要面向项目组管理人员、模型设计人员、模型开发人员、模型测试人员。\n",
      "6 本文件主要面向项目组管理人员、模型设计人员、模型开发人员、模型测试人员。\n",
      "7 部署说明\n",
      "7 部署说明\n",
      "8 模型基础信息\n",
      "8 模型基础信息\n",
      "9 模型编号\n",
      "9 模型编号\n",
      "10 ZB_M0027  \n",
      "10 ZB_M0028  \n",
      "10 ZB_M0027   ZB_M0028  \n",
      "11 模型名称\n",
      "11 模型名称\n",
      "12 开门输入信号异常诊断模型\n",
      "12 关门输入信号异常诊断模型\n",
      "12 开门输入信号异常诊断模型 关门输入信号异常诊断模型\n",
      "13 模型主程序文件\n",
      "13 模型主程序文件\n",
      "14 ZB_M0027_DoorOpenSignalAbnormal.py \n",
      "14 ZB_M0028_DoorOpenSignalAbnormal.py \n",
      "14 ZB_M0027_DoorOpenSignalAbnormal.py  ZB_M0028_DoorOpenSignalAbnormal.py \n",
      "15 模型运行环境\n",
      "15 模型运行环境\n",
      "16 硬件环境\n",
      "16 硬件环境\n",
      "17 CPU：8核；内存：16G；磁盘空间：20G\n",
      "17 CPU：8核；内存：16G；磁盘空间：20G\n",
      "18 软件环境\n",
      "18 软件环境\n",
      "19 系统：Linux，如CENTOS 7.6\n",
      "19 系统：Linux，如CENTOS 7.6\n",
      "20 Python解释器：Python 3.6\n",
      "20 Python解释器：Python 3.6\n",
      "21 依赖库\n",
      "21 依赖库\n",
      "22 numpy 1.16.1\n",
      "22 numpy 1.16.1\n",
      "23 pandas 1.1.3\n",
      "23 pandas 1.1.3\n",
      "24 happybase 1.2.0\n",
      "24 happybase 1.2.0\n",
      "25 pymysql 0.10.0\n",
      "25 pymysql 0.10.0\n",
      "26 pandasql==0.7.3\n",
      "26 pandasql==0.7.3\n",
      "27 scikit-learn 0.23\n",
      "27 scikit-learn 0.23\n",
      "28 外部模块\n",
      "28 外部模块\n",
      "29 Db_conn (数据读取和写入模块的封装)\n",
      "29 Db_conn (数据读取和写入模块的封装)\n",
      "30 Globalbase(模型的父类，连接数据读写，日志等模块)\n",
      "30 Globalbase(模型的父类，连接数据读写，日志等模块)\n",
      "31 模型部署位置\n",
      "31 模型部署位置\n",
      "32 服务器地址\n",
      "32 服务器地址\n",
      "33 \n",
      "33 \n",
      "34 模型工作目录\n",
      "34 模型工作目录\n",
      "35 \n",
      "35 \n",
      "36 \n",
      "36 \n"
     ]
    }
   ],
   "source": [
    "doc = modify_content(doc,replace_pairs)"
   ]
  },
  {
   "cell_type": "code",
   "execution_count": 73,
   "metadata": {},
   "outputs": [
    {
     "data": {
      "text/plain": [
       "'ZB_M0027  '"
      ]
     },
     "execution_count": 73,
     "metadata": {},
     "output_type": "execute_result"
    }
   ],
   "source": [
    "replace_str('ZB_M0027  ',replace_pairs)"
   ]
  },
  {
   "cell_type": "code",
   "execution_count": null,
   "metadata": {},
   "outputs": [],
   "source": []
  },
  {
   "cell_type": "code",
   "execution_count": null,
   "metadata": {},
   "outputs": [],
   "source": []
  },
  {
   "cell_type": "code",
   "execution_count": 46,
   "metadata": {},
   "outputs": [
    {
     "data": {
      "text/plain": [
       "'ZB_M0027  '"
      ]
     },
     "execution_count": 46,
     "metadata": {},
     "output_type": "execute_result"
    }
   ],
   "source": [
    "replace_str(val_cur,replace_pairs)"
   ]
  },
  {
   "cell_type": "code",
   "execution_count": 79,
   "metadata": {},
   "outputs": [
    {
     "name": "stdout",
     "output_type": "stream",
     "text": [
      "ZB_M0027  \n"
     ]
    },
    {
     "data": {
      "text/plain": [
       "'ZB_M0028  '"
      ]
     },
     "execution_count": 79,
     "metadata": {},
     "output_type": "execute_result"
    }
   ],
   "source": [
    "text_cur = doc.paragraphs[10].text\n",
    "print(text_cur)\n",
    "replace_str(text_cur,replace_pairs)"
   ]
  },
  {
   "cell_type": "code",
   "execution_count": 75,
   "metadata": {},
   "outputs": [
    {
     "data": {
      "text/plain": [
       "'ZB_M0027  '"
      ]
     },
     "execution_count": 75,
     "metadata": {},
     "output_type": "execute_result"
    }
   ],
   "source": [
    "replace_str(text_cur,replace_pairs)"
   ]
  },
  {
   "cell_type": "code",
   "execution_count": 76,
   "metadata": {},
   "outputs": [
    {
     "data": {
      "text/plain": [
       "[]"
      ]
     },
     "execution_count": 76,
     "metadata": {},
     "output_type": "execute_result"
    }
   ],
   "source": [
    "replace_pairs"
   ]
  },
  {
   "cell_type": "code",
   "execution_count": 8,
   "metadata": {},
   "outputs": [],
   "source": [
    "text_cur = text_next"
   ]
  },
  {
   "cell_type": "code",
   "execution_count": 10,
   "metadata": {},
   "outputs": [],
   "source": [
    "header.paragraphs[0].text = text_next"
   ]
  },
  {
   "cell_type": "code",
   "execution_count": 11,
   "metadata": {},
   "outputs": [
    {
     "data": {
      "text/plain": [
       "'\\t\\t关门输入信号异常诊断模型'"
      ]
     },
     "execution_count": 11,
     "metadata": {},
     "output_type": "execute_result"
    }
   ],
   "source": [
    "header.paragraphs[0].text"
   ]
  },
  {
   "cell_type": "code",
   "execution_count": 12,
   "metadata": {},
   "outputs": [],
   "source": [
    "doc.save('tmp.docx')"
   ]
  },
  {
   "cell_type": "code",
   "execution_count": null,
   "metadata": {},
   "outputs": [],
   "source": [
    "def modify_header(doc,val_cur:str, var_new:str) -> None:\n",
    "    \"\"\"modify header from 2nd page\"\"\"\n",
    "    section = doc.sections[1]\n",
    "    header = section.header\n",
    "    text_cur = header.paragraphs[0].text\n",
    "    text_new = text_cur.replace(val_cur, var_new)\n",
    "    header.paragraphs[0].text = text_new"
   ]
  },
  {
   "cell_type": "code",
   "execution_count": null,
   "metadata": {},
   "outputs": [],
   "source": []
  },
  {
   "cell_type": "code",
   "execution_count": null,
   "metadata": {},
   "outputs": [],
   "source": []
  },
  {
   "cell_type": "code",
   "execution_count": 16,
   "metadata": {},
   "outputs": [],
   "source": [
    "doc.save('./tmp2.docx')"
   ]
  },
  {
   "cell_type": "code",
   "execution_count": 2,
   "metadata": {},
   "outputs": [],
   "source": [
    "def modify_content(doc,val_cur:str, var_new:str) -> None:\n",
    "    \"\"\"modify content by replcaing keyword\"\"\"\n",
    "    all_paras = doc.paragraphs\n",
    "    for para in all_paras:\n",
    "        text_cur = para.text\n",
    "        text_new = text_cur.replace(val_cur, var_new)\n",
    "        para.text = text_new"
   ]
  },
  {
   "cell_type": "code",
   "execution_count": null,
   "metadata": {},
   "outputs": [],
   "source": []
  },
  {
   "cell_type": "code",
   "execution_count": 21,
   "metadata": {},
   "outputs": [],
   "source": [
    "def modify_content(doc,val_cur:str, var_new:str) -> None:\n",
    "    \"\"\"modify content by replcaing keyword\"\"\"\n",
    "    all_paras = doc.paragraphs\n",
    "    for para in all_paras:\n",
    "        text_cur = para.text\n",
    "        text_new = text_cur.replace(val_cur, var_new)\n",
    "        para.text = text_new"
   ]
  },
  {
   "cell_type": "code",
   "execution_count": 22,
   "metadata": {},
   "outputs": [],
   "source": [
    "def modify_header(doc,val_cur:str, var_new:str) -> None:\n",
    "    \"\"\"modify header from 2nd page\"\"\"\n",
    "    section = doc.sections[1]\n",
    "    header = section.header\n",
    "    text_cur = header.paragraphs[0].text\n",
    "    text_new = text_cur.replace(val_cur, var_new)\n",
    "    header.paragraphs[0].text = text_new"
   ]
  },
  {
   "cell_type": "code",
   "execution_count": 23,
   "metadata": {},
   "outputs": [],
   "source": [
    "def modify_doc(path_read:str, path_write:str,val_cur:str, var_new:str) -> None:\n",
    "    \"\"\"modify doc file and write to specific path\"\"\"\n",
    "    doc = docx.Document(path_read)\n",
    "    modify_content(doc,val_cur,val_cur)\n",
    "    modify_header(doc,val_cur,val_cur)\n",
    "    doc.save(path_write)"
   ]
  },
  {
   "cell_type": "code",
   "execution_count": null,
   "metadata": {},
   "outputs": [],
   "source": []
  }
 ],
 "metadata": {
  "kernelspec": {
   "display_name": "Python 3",
   "language": "python",
   "name": "python3"
  },
  "language_info": {
   "codemirror_mode": {
    "name": "ipython",
    "version": 3
   },
   "file_extension": ".py",
   "mimetype": "text/x-python",
   "name": "python",
   "nbconvert_exporter": "python",
   "pygments_lexer": "ipython3",
   "version": "3.8.5"
  }
 },
 "nbformat": 4,
 "nbformat_minor": 4
}
